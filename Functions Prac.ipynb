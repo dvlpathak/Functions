{
 "cells": [
  {
   "cell_type": "raw",
   "id": "d6e9be7b-5bab-4237-bcb8-bcac3aa2424c",
   "metadata": {},
   "source": [
    "1. Write a Python function that takes a list of numbers as input and returns the sum of all even numbers in\n",
    "the list."
   ]
  },
  {
   "cell_type": "code",
   "execution_count": 3,
   "id": "589f6ad0-a2fc-47fa-8cca-24c11ac70493",
   "metadata": {},
   "outputs": [
    {
     "name": "stdout",
     "output_type": "stream",
     "text": [
      "12\n"
     ]
    }
   ],
   "source": [
    "def sum_even_numbers(numbers):\n",
    "    return sum(num for num in numbers if num % 2 == 0)\n",
    "print(sum_even_numbers([1, 2, 3, 4, 5, 6])) "
   ]
  },
  {
   "cell_type": "raw",
   "id": "6df93e9b-23f6-407f-bbd1-56dd3bcb219d",
   "metadata": {},
   "source": [
    "2. Create a Python function that accepts a string and returns the reverse of that string."
   ]
  },
  {
   "cell_type": "code",
   "execution_count": 4,
   "id": "e06d093d-c12f-4816-b07c-c0187d2a8756",
   "metadata": {},
   "outputs": [
    {
     "name": "stdout",
     "output_type": "stream",
     "text": [
      "olleh\n"
     ]
    }
   ],
   "source": [
    "def reverse_string(s):\n",
    "    return s[::-1]\n",
    "print(reverse_string(\"hello\")) "
   ]
  },
  {
   "cell_type": "raw",
   "id": "a8da7b18-0846-4e24-8b2a-e8c8060646d2",
   "metadata": {},
   "source": [
    "3. Implement a Python function that takes a list of integers and returns a new list containing the squares of\n",
    "each number."
   ]
  },
  {
   "cell_type": "code",
   "execution_count": 5,
   "id": "474467dd-2718-41cf-8db7-1145170b5f39",
   "metadata": {},
   "outputs": [
    {
     "name": "stdout",
     "output_type": "stream",
     "text": [
      "[1, 4, 9, 16]\n"
     ]
    }
   ],
   "source": [
    "def square_numbers(numbers):\n",
    "    return [num ** 2 for num in numbers]\n",
    "\n",
    "print(square_numbers([1, 2, 3, 4])) \n"
   ]
  },
  {
   "cell_type": "raw",
   "id": "7b0202ce-2612-4503-a8c4-43ad9efd7777",
   "metadata": {},
   "source": [
    "4. Write a Python function that checks if a given number is prime or not from 1 to 200."
   ]
  },
  {
   "cell_type": "code",
   "execution_count": 8,
   "id": "b3e6b68c-109c-431f-8a48-562ee03bef0c",
   "metadata": {},
   "outputs": [
    {
     "name": "stdout",
     "output_type": "stream",
     "text": [
      "2 is Prime\n",
      "3 is Prime\n",
      "5 is Prime\n",
      "7 is Prime\n",
      "11 is Prime\n",
      "13 is Prime\n",
      "17 is Prime\n",
      "19 is Prime\n",
      "23 is Prime\n",
      "29 is Prime\n",
      "31 is Prime\n",
      "37 is Prime\n",
      "41 is Prime\n",
      "43 is Prime\n",
      "47 is Prime\n",
      "53 is Prime\n",
      "59 is Prime\n",
      "61 is Prime\n",
      "67 is Prime\n",
      "71 is Prime\n",
      "73 is Prime\n",
      "79 is Prime\n",
      "83 is Prime\n",
      "89 is Prime\n",
      "97 is Prime\n",
      "101 is Prime\n",
      "103 is Prime\n",
      "107 is Prime\n",
      "109 is Prime\n",
      "113 is Prime\n",
      "127 is Prime\n",
      "131 is Prime\n",
      "137 is Prime\n",
      "139 is Prime\n",
      "149 is Prime\n",
      "151 is Prime\n",
      "157 is Prime\n",
      "163 is Prime\n",
      "167 is Prime\n",
      "173 is Prime\n",
      "179 is Prime\n",
      "181 is Prime\n",
      "191 is Prime\n",
      "193 is Prime\n",
      "197 is Prime\n",
      "199 is Prime\n"
     ]
    }
   ],
   "source": [
    "def is_prime(num):\n",
    "    if num < 2:\n",
    "        return False\n",
    "    for i in range(2, int(num ** 0.5) + 1):\n",
    "        if num % i == 0:\n",
    "            return False\n",
    "    return True\n",
    "\n",
    "for n in range(1, 201):\n",
    "    if is_prime(n):\n",
    "        print(n, \"is Prime\")\n"
   ]
  },
  {
   "cell_type": "raw",
   "id": "2861a20c-6099-4cd3-9f90-09df23d43a80",
   "metadata": {},
   "source": [
    "5. Create an iterator class in Python that generates the Fibonacci sequence up to a specified number of\n",
    "terms."
   ]
  },
  {
   "cell_type": "code",
   "execution_count": 9,
   "id": "29b061f0-9ffd-4d87-9aa8-01dda76587c6",
   "metadata": {},
   "outputs": [
    {
     "name": "stdout",
     "output_type": "stream",
     "text": [
      "0\n",
      "1\n",
      "1\n",
      "2\n",
      "3\n",
      "5\n",
      "8\n",
      "13\n",
      "21\n",
      "34\n"
     ]
    }
   ],
   "source": [
    "class FibonacciIterator:\n",
    "    def __init__(self, n_terms):\n",
    "        self.n_terms = n_terms\n",
    "        self.count = 0\n",
    "        self.a, self.b = 0, 1\n",
    "\n",
    "    def __iter__(self):\n",
    "        return self\n",
    "\n",
    "    def __next__(self):\n",
    "        if self.count >= self.n_terms:\n",
    "            raise StopIteration\n",
    "        fib = self.a\n",
    "        self.a, self.b = self.b, self.a + self.b\n",
    "        self.count += 1\n",
    "        return fib\n",
    "\n",
    "for num in FibonacciIterator(10):\n",
    "    print(num)\n"
   ]
  },
  {
   "cell_type": "raw",
   "id": "1cec6a95-23e6-4ba7-8653-db973ad32de1",
   "metadata": {},
   "source": [
    "6. Write a generator function in Python that yields the powers of 2 up to a given exponent."
   ]
  },
  {
   "cell_type": "code",
   "execution_count": 10,
   "id": "4a805add-4bd9-403d-9b2d-35d22c94469a",
   "metadata": {},
   "outputs": [
    {
     "name": "stdout",
     "output_type": "stream",
     "text": [
      "1\n",
      "2\n",
      "4\n",
      "8\n",
      "16\n",
      "32\n"
     ]
    }
   ],
   "source": [
    "def powers_of_two(exponent):\n",
    "    for i in range(exponent + 1):\n",
    "        yield 2 ** i\n",
    "\n",
    "\n",
    "for num in powers_of_two(5):\n",
    "    print(num)\n"
   ]
  },
  {
   "cell_type": "raw",
   "id": "2c8b9e8d-8552-486a-b932-031a2d384dd8",
   "metadata": {},
   "source": [
    "7. Implement a generator function that reads a file line by line and yields each line as a string."
   ]
  },
  {
   "cell_type": "code",
   "execution_count": 11,
   "id": "51055178-759b-45b5-9827-dcdca9c2dd4c",
   "metadata": {},
   "outputs": [],
   "source": [
    "def read_file_line_by_line(file_path):\n",
    "    with open(file_path, 'r') as file:\n",
    "        for line in file:\n",
    "            yield line.strip()"
   ]
  },
  {
   "cell_type": "raw",
   "id": "866ad8af-acef-4567-aba8-880f8a4834af",
   "metadata": {},
   "source": [
    "8. Use a lambda function in Python to sort a list of tuples based on the second element of each tuple."
   ]
  },
  {
   "cell_type": "code",
   "execution_count": 12,
   "id": "9a38d507-8e8b-41de-837f-df263de020cb",
   "metadata": {},
   "outputs": [
    {
     "name": "stdout",
     "output_type": "stream",
     "text": [
      "[(2, 1), (3, 2), (1, 3), (4, 5)]\n"
     ]
    }
   ],
   "source": [
    "data = [(1, 3), (2, 1), (4, 5), (3, 2)]\n",
    "sorted_data = sorted(data, key=lambda x: x[1])\n",
    "\n",
    "print(sorted_data)"
   ]
  },
  {
   "cell_type": "raw",
   "id": "f2a2daa8-129c-4bce-94dd-d3d71e2d7957",
   "metadata": {},
   "source": [
    "9. Write a Python program that uses `map()` to convert a list of temperatures from Celsius to Fahrenheit."
   ]
  },
  {
   "cell_type": "code",
   "execution_count": 13,
   "id": "0e25ab85-4642-4b75-ba6f-4403a0b50736",
   "metadata": {},
   "outputs": [
    {
     "name": "stdout",
     "output_type": "stream",
     "text": [
      "[32.0, 68.0, 86.0, 104.0]\n"
     ]
    }
   ],
   "source": [
    "celsius = [0, 20, 30, 40]\n",
    "fahrenheit = list(map(lambda c: (c * 9/5) + 32, celsius))\n",
    "\n",
    "print(fahrenheit) "
   ]
  },
  {
   "cell_type": "raw",
   "id": "72f18147-77f1-44a6-8202-e58a4a136bc9",
   "metadata": {},
   "source": [
    "10. Create a Python program that uses `filter()` to remove all the vowels from a given string."
   ]
  },
  {
   "cell_type": "code",
   "execution_count": 14,
   "id": "ec05b264-0e85-413d-a5ee-3ad2cc47aa68",
   "metadata": {},
   "outputs": [
    {
     "name": "stdout",
     "output_type": "stream",
     "text": [
      "Hll Wrld\n"
     ]
    }
   ],
   "source": [
    "def remove_vowels(s):\n",
    "    return ''.join(filter(lambda x: x.lower() not in 'aeiou', s))\n",
    "\n",
    "# Example\n",
    "print(remove_vowels(\"Hello World\"))"
   ]
  },
  {
   "cell_type": "raw",
   "id": "8ae4041c-8f1a-4bc3-8dbf-922e370af299",
   "metadata": {},
   "source": [
    "11) Imagine an accounting routine used in a book shop. It works on a list with sublists, which look like this:\n",
    "\n",
    "\n",
    "\n",
    "\n",
    "\n",
    "\n",
    "\n",
    "Write a Python program, which returns a list with 2-tuples. Each tuple consists of the order number and the\n",
    "product of the price per item and the quantity. The product should be increased by 10,- € if the value of the\n",
    "order is smaller than 100,00 €."
   ]
  },
  {
   "cell_type": "code",
   "execution_count": 15,
   "id": "ec076ca8-6732-4d38-b64b-1455951e5c3a",
   "metadata": {},
   "outputs": [
    {
     "name": "stdout",
     "output_type": "stream",
     "text": [
      "[(34587, 163.8), (98762, 284.0), (77226, 108.85), (88112, 84.97)]\n"
     ]
    }
   ],
   "source": [
    "orders = [\n",
    "    [34587, \"Learning Python, Mark Lutz\", 4, 40.95],\n",
    "    [98762, \"Programming Python, Mark Lutz\", 5, 56.80],\n",
    "    [77226, \"Head First Python, Paul Barry\", 3, 32.95],\n",
    "    [88112, \"Einführung in Python3, Bernd Klein\", 3, 24.99]\n",
    "]\n",
    "\n",
    "result = list(map(lambda order: (order[0], \n",
    "                                 round(order[2] * order[3] + (10 if order[2] * order[3] < 100 else 0), 2)),\n",
    "                  orders))\n",
    "\n",
    "print(result)\n"
   ]
  },
  {
   "cell_type": "code",
   "execution_count": null,
   "id": "13f8461c-4f47-49f5-b86d-045f928681b2",
   "metadata": {},
   "outputs": [],
   "source": []
  },
  {
   "cell_type": "code",
   "execution_count": null,
   "id": "9b0834cd-0b7f-4803-9089-729946897dce",
   "metadata": {},
   "outputs": [],
   "source": []
  }
 ],
 "metadata": {
  "kernelspec": {
   "display_name": "Python 3 (ipykernel)",
   "language": "python",
   "name": "python3"
  },
  "language_info": {
   "codemirror_mode": {
    "name": "ipython",
    "version": 3
   },
   "file_extension": ".py",
   "mimetype": "text/x-python",
   "name": "python",
   "nbconvert_exporter": "python",
   "pygments_lexer": "ipython3",
   "version": "3.12.7"
  }
 },
 "nbformat": 4,
 "nbformat_minor": 5
}
